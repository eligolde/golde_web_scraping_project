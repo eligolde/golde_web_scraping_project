{
 "cells": [
  {
   "cell_type": "code",
   "execution_count": 1,
   "id": "aee87164",
   "metadata": {},
   "outputs": [],
   "source": [
    "from bs4 import BeautifulSoup\n",
    "import requests\n",
    "import time\n",
    "import csv"
   ]
  },
  {
   "cell_type": "code",
   "execution_count": 2,
   "id": "d46854d2",
   "metadata": {},
   "outputs": [
    {
     "name": "stdout",
     "output_type": "stream",
     "text": [
      "['/wildlife/american-crocodile-and-alligator', '/wildlife/amphibians', '/wildlife/bald-eagle', '/wildlife/bats', '/wildlife/beaver', '/wildlife/beluga-whale', '/wildlife/bighorn-sheep', '/wildlife/bison', '/wildlife/black-bear', '/wildlife/black-footed-ferret', '/wildlife/bog-turtle', '/wildlife/butterflies', '/wildlife/california-condor', '/wildlife/canada-lynx', '/wildlife/caribou', '/wildlife/dolphins', '/wildlife/elephants', '/wildlife/fisher', '/wildlife/florida-manatee', '/wildlife/florida-panther', '/wildlife/foxes', '/wildlife/freshwater-fishes', '/wildlife/freshwater-mussels', '/wildlife/golden-cheeked-warbler', '/wildlife/gray-wolf', '/wildlife/grizzly-bear', '/wildlife/hellbender', '/wildlife/horseshoe-crab', '/wildlife/jaguar', '/wildlife/lesser-prairie-chicken', '/wildlife/marbled-murrelet', '/wildlife/mexican-gray-wolf', '/wildlife/mice-and-rats', '/wildlife/north-atlantic-right-whale', '/wildlife/ocelot', '/wildlife/orca', '/wildlife/owls', '/wildlife/pacific-salmon', '/wildlife/pacific-walrus', '/wildlife/pallid-sturgeon', '/wildlife/parrots', '/wildlife/peregrine-falcon', '/wildlife/pinyon-jay', '/wildlife/polar-bear', '/wildlife/pollinators', '/wildlife/prairie-dog', '/wildlife/red-wolf', '/wildlife/rices-whale', '/wildlife/rufa-red-knot', '/wildlife/sage-grouse', '/wildlife/sea-otter', '/wildlife/sea-turtles', '/wildlife/sharks-and-rays', '/wildlife/snakes-and-lizards', '/wildlife/sonoran-pronghorn', '/wildlife/tiger', '/wildlife/tortoises', '/wildlife/vaquita', '/wildlife/wolverine']\n"
     ]
    }
   ],
   "source": [
    "my_url = \"https://defenders.org/wildlife\"\n",
    "\n",
    "hdr = {'User-Agent': 'Mozilla/5.0 (Macintosh; Intel Mac OS X 10_15_7) AppleWebKit/537.36 (KHTML, like Gecko) Chrome/110.0.0.0 Safari/537.36'}\n",
    "\n",
    "def get_urls_from_single_page(animal_url):\n",
    "\n",
    "    page = requests.get(animal_url, headers=hdr)\n",
    "    soup = BeautifulSoup(page.text, 'html.parser')\n",
    "\n",
    "    link_list = []\n",
    "\n",
    "    animals = soup.find_all('div', class_='card card-linked has-image')\n",
    "\n",
    "    for animal in animals:\n",
    "        try:\n",
    "            a = animal.find_all('a', class_='stretched-link')\n",
    "            link_list.append(a[0].attrs['href'])\n",
    "        except:\n",
    "            pass\n",
    "\n",
    "    return link_list\n",
    "\n",
    "url_list = get_urls_from_single_page(my_url)\n",
    "\n",
    "#print(url_list)"
   ]
  },
  {
   "cell_type": "code",
   "execution_count": 3,
   "id": "7793e157",
   "metadata": {},
   "outputs": [
    {
     "name": "stdout",
     "output_type": "stream",
     "text": [
      "['Endangered', 'Not listed', 'Not listed', 'In 2019 there were 163 individual wolves in 42 packs of two or more animals in the wild in Arizona and New Mexico']\n"
     ]
    }
   ],
   "source": [
    "gator_url = \"/wildlife/mexican-gray-wolf\"\n",
    "\n",
    "def scrape_one_animal(gator_url):\n",
    "    page = requests.get('https://defenders.org'+ gator_url, headers=hdr)\n",
    "    soup = BeautifulSoup(page.text, 'html.parser')\n",
    "\n",
    "    status_list = []\n",
    "    \n",
    "\n",
    "    try:\n",
    "        status_container = soup.find('table', class_='table protection-table')\n",
    "        status_text = status_container.find_all('span', class_='font-weight-bold small')\n",
    "        stat_text = status_text[0].text\n",
    "        \n",
    "        if len(status_text) == 3:\n",
    "            for status in status_text:\n",
    "                status_list.append(status.text)\n",
    "        elif len(status_text) == 2 and 'Appendix' not in status_text[1].text:\n",
    "            status_list.append(status_text[0].text)\n",
    "            status_list.append(status_text[1].text)\n",
    "            status_list.append('Not listed')\n",
    "        elif len(status_text) == 2 and 'Appendix' in status_text[1].text:\n",
    "            status_list.append(status_text[0].text)\n",
    "            status_list.append('Not listed')\n",
    "            status_list.append(status_text[1].text)\n",
    "        elif len(status_text) == 1 and 'Appendix' in stat_text:\n",
    "            status_list.append('Not listed')\n",
    "            status_list.append('Not listed')\n",
    "            status_list.append(status_text[0].text)\n",
    "        elif len(status_text) == 1 and 'Appendix' not in stat_text:\n",
    "            for status in status_text:\n",
    "                status_list.append(status.text)\n",
    "            status_list.append('Not listed')\n",
    "            status_list.append('Not listed')\n",
    "        elif len(status_text) == 0:\n",
    "            status_list.append('Not listed')\n",
    "            status_list.append('Not listed')\n",
    "            status_list.append('Not listed')\n",
    "\n",
    "    except:\n",
    "        status_list.append('Not listed')\n",
    "        status_list.append('Not listed')\n",
    "        status_list.append('Not listed')\n",
    "    \n",
    "    try:\n",
    "        pop_container = soup.find('div', id='Range--Population')\n",
    "        pop = pop_container.find_all('div', class_='long-text')\n",
    "        pop1 = pop[1].text\n",
    "        status_list.append(pop1[12:-2])\n",
    "    except:\n",
    "        status_list.append('Not listed')\n",
    "    \n",
    "    return status_list\n",
    "\n",
    "animal_details = scrape_one_animal(gator_url)\n",
    "\n",
    "print(animal_details)"
   ]
  },
  {
   "cell_type": "code",
   "execution_count": 4,
   "id": "6dddd4a2",
   "metadata": {},
   "outputs": [],
   "source": [
    "# write a function (ONE function) to send all the actor URLs through the scrape_one_actor() function above \n",
    "# and in the same function, here, write out the following to a CSV file:\n",
    "# [ actor's name, birthday, death date, partial URL ]\n",
    "# in top line of the CSV, write the following column headings: actor, birthday, death, url\n",
    "\n",
    "# do not change variable name, url_list\n",
    "def write_csv(url_list):\n",
    "    # open new file for writing - name it actors.csv \n",
    "    csvfile = open('animals.csv', 'w', newline='')\n",
    "    \n",
    "    # make a Python CSV writer object -\n",
    "    c = csv.writer(csvfile)\n",
    "    \n",
    "    # write the column headings row \n",
    "    c.writerow( ['Endangered Species Act','IUCN Red List','CITES', 'Population', 'URL'] )\n",
    "\n",
    "    \n",
    "    # loop through the urls to run the scrape_one_actor() function for EACH url \n",
    "    # insert a 1-second time delay inside the loop \n",
    "    # write one new row into the CSV\n",
    "    for url in url_list:\n",
    "        animal_details = scrape_one_animal(url)\n",
    "        actor = [animal_details[0], animal_details[1], animal_details[2], animal_details[3], url]\n",
    "        c.writerow(actor)\n",
    "        time.sleep(1)\n",
    "    \n",
    "    # close the file - end of function \n",
    "    csvfile.close()\n",
    "    \n",
    "    # function does not need a return - but the next line prevents an error in Jupyter, so keep it \n",
    "    return None\n",
    "\n",
    "# run the function - this should create a .csv file \n",
    "# do not change variable name, url_list\n",
    "write_csv(url_list)\n"
   ]
  },
  {
   "cell_type": "code",
   "execution_count": null,
   "id": "9fb0a9b9",
   "metadata": {},
   "outputs": [],
   "source": []
  }
 ],
 "metadata": {
  "kernelspec": {
   "display_name": "Python 3 (ipykernel)",
   "language": "python",
   "name": "python3"
  },
  "language_info": {
   "codemirror_mode": {
    "name": "ipython",
    "version": 3
   },
   "file_extension": ".py",
   "mimetype": "text/x-python",
   "name": "python",
   "nbconvert_exporter": "python",
   "pygments_lexer": "ipython3",
   "version": "3.11.1"
  }
 },
 "nbformat": 4,
 "nbformat_minor": 5
}
